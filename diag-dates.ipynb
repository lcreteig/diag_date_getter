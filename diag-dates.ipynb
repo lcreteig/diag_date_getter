{
 "cells": [
  {
   "cell_type": "code",
   "execution_count": 1,
   "metadata": {},
   "outputs": [],
   "source": [
    "import datetime\n",
    "import spacy\n",
    "from spacy.tokens import Span\n",
    "from dateparser.search import search_dates"
   ]
  },
  {
   "cell_type": "code",
   "execution_count": 2,
   "metadata": {},
   "outputs": [],
   "source": [
    "nlp = spacy.load(\"nl_core_news_sm\")\n",
    "ruler = nlp.add_pipe(\"entity_ruler\", config={\"overwrite_ents\": True})\n",
    "patterns = [{\"label\": \"DIAGNOSIS\", \"pattern\": \"CVID\"}]\n",
    "ruler.add_patterns(patterns)"
   ]
  },
  {
   "cell_type": "code",
   "execution_count": 4,
   "metadata": {},
   "outputs": [],
   "source": [
    "def get_diag_date(span):\n",
    "    if span.label_ == 'DIAGNOSIS':\n",
    "        spaces_to_left = [s for s in span.doc[:span.start] if s.is_space]\n",
    "        spaces_to_right = [s for s in span.doc[span.start:] if s.is_space]\n",
    "        if spaces_to_left and spaces_to_right: # if there's at least one space char to left and right of diagnosis\n",
    "            text = span.doc[spaces_to_left[-1].i+1:spaces_to_right[0].i-1].text # get all text inbetween\n",
    "        else: # we might not be in a list; just get the sentence the diagnosis occurs in\n",
    "            text = span.sent.text \n",
    "        dates = search_dates(text, languages=['nl'], # look for dates in Dutch text;\n",
    "                             settings={'RELATIVE_BASE': datetime.datetime(2020, 1, 1), # if no month/day assume it's 1st of January\n",
    "                                       'REQUIRE_PARTS': ['year'], # must have at least a \"year\" keyword\n",
    "                                       'PARSERS': ['custom-formats', 'absolute-time']}) # avoid relative times / timestamps\n",
    "    return dates"
   ]
  },
  {
   "cell_type": "code",
   "execution_count": 5,
   "metadata": {},
   "outputs": [],
   "source": [
    "Span.set_extension(\"diag_date\", getter = get_diag_date)"
   ]
  },
  {
   "cell_type": "code",
   "execution_count": 22,
   "metadata": {},
   "outputs": [],
   "source": [
    "text_example_list = \"\"\"Voorgeschiedenis\n",
    "\n",
    "2010: DM type 2\n",
    "2014-11: CVID\n",
    "2018: trauma capitis\n",
    "\n",
    "\"\"\"\n",
    "\n",
    "text_example_sent = \"Eerste opname: 01-04-2022. CVID is gediagnosticeerd in jan 2023. \""
   ]
  },
  {
   "cell_type": "code",
   "execution_count": 25,
   "metadata": {},
   "outputs": [
    {
     "name": "stdout",
     "output_type": "stream",
     "text": [
      "[('DIAGNOSIS', [('2014-11', datetime.datetime(2014, 11, 1, 0, 0))])]\n"
     ]
    }
   ],
   "source": [
    "doc = nlp(text_example_list)\n",
    "print([(ent.label_, ent._.diag_date) for ent in doc.ents if ent.label_ == \"DIAGNOSIS\"])"
   ]
  },
  {
   "cell_type": "code",
   "execution_count": 24,
   "metadata": {},
   "outputs": [
    {
     "name": "stdout",
     "output_type": "stream",
     "text": [
      "[('DIAGNOSIS', [('in jan 2023', datetime.datetime(2023, 1, 1, 0, 0))])]\n"
     ]
    }
   ],
   "source": [
    "doc = nlp(text_example_sent)\n",
    "print([(ent.label_, ent._.diag_date) for ent in doc.ents if ent.label_ == \"DIAGNOSIS\"])"
   ]
  }
 ],
 "metadata": {
  "kernelspec": {
   "display_name": ".venv",
   "language": "python",
   "name": "python3"
  },
  "language_info": {
   "codemirror_mode": {
    "name": "ipython",
    "version": 3
   },
   "file_extension": ".py",
   "mimetype": "text/x-python",
   "name": "python",
   "nbconvert_exporter": "python",
   "pygments_lexer": "ipython3",
   "version": "3.11.6"
  }
 },
 "nbformat": 4,
 "nbformat_minor": 2
}
